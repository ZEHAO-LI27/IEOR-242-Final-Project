{
 "cells": [
  {
   "cell_type": "code",
   "execution_count": 1,
   "id": "ca4683ce",
   "metadata": {},
   "outputs": [],
   "source": [
    "import pandas as pd \n",
    "import numpy as np "
   ]
  },
  {
   "cell_type": "code",
   "execution_count": 2,
   "id": "b6d9ea30",
   "metadata": {},
   "outputs": [
    {
     "name": "stderr",
     "output_type": "stream",
     "text": [
      "/Library/Frameworks/Python.framework/Versions/3.9/lib/python3.9/site-packages/IPython/core/interactiveshell.py:3165: DtypeWarning: Columns (10) have mixed types.Specify dtype option on import or set low_memory=False.\n",
      "  has_raised = await self.run_ast_nodes(code_ast.body, cell_name,\n"
     ]
    }
   ],
   "source": [
    "df1=pd.read_csv('movies_metadata.csv')"
   ]
  },
  {
   "cell_type": "code",
   "execution_count": 3,
   "id": "21b9b8e5",
   "metadata": {},
   "outputs": [],
   "source": [
    "df2=pd.read_csv('credits.csv')"
   ]
  },
  {
   "cell_type": "code",
   "execution_count": 4,
   "id": "9de103fd",
   "metadata": {},
   "outputs": [],
   "source": [
    "#remove invalid id rows\n",
    "df1=df1[df1.id !='1997-08-20']\n",
    "df1=df1[df1.id !='2012-09-29']\n",
    "df1=df1[df1.id !='2014-01-01']"
   ]
  },
  {
   "cell_type": "code",
   "execution_count": 5,
   "id": "e20b5319",
   "metadata": {},
   "outputs": [],
   "source": [
    "#converge to same type\n",
    "df1=df1.astype({\"id\":int})"
   ]
  },
  {
   "cell_type": "code",
   "execution_count": 6,
   "id": "1f9ff69a",
   "metadata": {},
   "outputs": [],
   "source": [
    "df=df1.merge(df2,on='id')"
   ]
  },
  {
   "cell_type": "code",
   "execution_count": 7,
   "id": "94b85205",
   "metadata": {},
   "outputs": [
    {
     "data": {
      "text/plain": [
       "Index(['adult', 'belongs_to_collection', 'budget', 'genres', 'homepage', 'id',\n",
       "       'imdb_id', 'original_language', 'original_title', 'overview',\n",
       "       'popularity', 'poster_path', 'production_companies',\n",
       "       'production_countries', 'release_date', 'revenue', 'runtime',\n",
       "       'spoken_languages', 'status', 'tagline', 'title', 'video',\n",
       "       'vote_average', 'vote_count', 'cast', 'crew'],\n",
       "      dtype='object')"
      ]
     },
     "execution_count": 7,
     "metadata": {},
     "output_type": "execute_result"
    }
   ],
   "source": [
    "#Weighted Average\n",
    "df.columns"
   ]
  },
  {
   "cell_type": "code",
   "execution_count": 8,
   "id": "89176bbc",
   "metadata": {},
   "outputs": [],
   "source": [
    "#C is the mean vote of all movies.\n",
    "C= df['vote_average'].mean()"
   ]
  },
  {
   "cell_type": "code",
   "execution_count": 9,
   "id": "634307fa",
   "metadata": {},
   "outputs": [],
   "source": [
    "#m is the minimum votes required. We select the top 80 percent.\n",
    "m= df['vote_count'].quantile(0.8)"
   ]
  },
  {
   "cell_type": "code",
   "execution_count": 10,
   "id": "ef3f9fa3",
   "metadata": {},
   "outputs": [],
   "source": [
    "R = df['vote_average']\n",
    "v = df['vote_count']"
   ]
  },
  {
   "cell_type": "code",
   "execution_count": 11,
   "id": "1b37842e",
   "metadata": {},
   "outputs": [],
   "source": [
    "df['weighted_average'] = (R*v + C*m)/(v+m)"
   ]
  },
  {
   "cell_type": "code",
   "execution_count": 12,
   "id": "1e67a7de",
   "metadata": {},
   "outputs": [],
   "source": [
    "from sklearn.preprocessing import MinMaxScaler\n",
    "scaler = MinMaxScaler()\n",
    "scaled = scaler.fit_transform(df[['weighted_average']])\n",
    "#weighted_df = pd.DataFrame(scaled, columns=['popularity', 'weighted_average'])"
   ]
  },
  {
   "cell_type": "code",
   "execution_count": 13,
   "id": "f8b0cd9c",
   "metadata": {},
   "outputs": [],
   "source": [
    "df['weighted_average']=scaled\n"
   ]
  },
  {
   "cell_type": "code",
   "execution_count": 14,
   "id": "5342962a",
   "metadata": {},
   "outputs": [],
   "source": [
    "from sklearn.feature_extraction.text import TfidfVectorizer"
   ]
  },
  {
   "cell_type": "code",
   "execution_count": 15,
   "id": "acaec6de",
   "metadata": {},
   "outputs": [],
   "source": [
    "tfidf = TfidfVectorizer(stop_words='english')"
   ]
  },
  {
   "cell_type": "code",
   "execution_count": 16,
   "id": "f49a6af4",
   "metadata": {},
   "outputs": [
    {
     "data": {
      "text/plain": [
       "str"
      ]
     },
     "execution_count": 16,
     "metadata": {},
     "output_type": "execute_result"
    }
   ],
   "source": [
    "type(df['cast'][0])"
   ]
  },
  {
   "cell_type": "code",
   "execution_count": 17,
   "id": "d5e7d828",
   "metadata": {},
   "outputs": [],
   "source": [
    "#Take string input and evaluate strings with python values from unknown sources without parsing the values.\n",
    "#convert string into list\n",
    "from ast import literal_eval\n",
    "\n",
    "attributes = ['cast', 'crew', 'genres']\n",
    "for attribute in attributes:\n",
    "    df[attribute] = df[attribute].apply(literal_eval)"
   ]
  },
  {
   "cell_type": "code",
   "execution_count": 18,
   "id": "7ba31d7c",
   "metadata": {},
   "outputs": [
    {
     "data": {
      "text/plain": [
       "list"
      ]
     },
     "execution_count": 18,
     "metadata": {},
     "output_type": "execute_result"
    }
   ],
   "source": [
    "type(df['cast'][0])"
   ]
  },
  {
   "cell_type": "code",
   "execution_count": 19,
   "id": "873aba59",
   "metadata": {},
   "outputs": [],
   "source": [
    "#Get director from crews\n",
    "def director(x):\n",
    "    for i in x:\n",
    "        if i['job'] == 'Director':\n",
    "            return i['name']\n",
    "    return ' '"
   ]
  },
  {
   "cell_type": "code",
   "execution_count": 20,
   "id": "bdfd0063",
   "metadata": {},
   "outputs": [],
   "source": [
    "df['director'] = df['crew'].apply(director)"
   ]
  },
  {
   "cell_type": "code",
   "execution_count": 21,
   "id": "76a15621",
   "metadata": {},
   "outputs": [],
   "source": [
    "#Get necessary info from attributes in the forms of dictionaries.\n",
    "def get_names(x):\n",
    "    if isinstance(x, list):#check if input is a list.\n",
    "        names=[]\n",
    "        for i in x:\n",
    "            names.append(i['name'])\n",
    "        if len(names) > 5:\n",
    "            names = names[:5]\n",
    "        return names\n",
    "    return []"
   ]
  },
  {
   "cell_type": "code",
   "execution_count": 22,
   "id": "2357aae4",
   "metadata": {},
   "outputs": [],
   "source": [
    "attributes = ['cast','crew','genres']\n",
    "for attribute in attributes:\n",
    "    df[attribute] = df[attribute].apply(get_names)"
   ]
  },
  {
   "cell_type": "code",
   "execution_count": 23,
   "id": "466c4c49",
   "metadata": {},
   "outputs": [
    {
     "data": {
      "text/html": [
       "<div>\n",
       "<style scoped>\n",
       "    .dataframe tbody tr th:only-of-type {\n",
       "        vertical-align: middle;\n",
       "    }\n",
       "\n",
       "    .dataframe tbody tr th {\n",
       "        vertical-align: top;\n",
       "    }\n",
       "\n",
       "    .dataframe thead th {\n",
       "        text-align: right;\n",
       "    }\n",
       "</style>\n",
       "<table border=\"1\" class=\"dataframe\">\n",
       "  <thead>\n",
       "    <tr style=\"text-align: right;\">\n",
       "      <th></th>\n",
       "      <th>title</th>\n",
       "      <th>cast</th>\n",
       "      <th>director</th>\n",
       "      <th>crew</th>\n",
       "      <th>genres</th>\n",
       "    </tr>\n",
       "  </thead>\n",
       "  <tbody>\n",
       "    <tr>\n",
       "      <th>0</th>\n",
       "      <td>Toy Story</td>\n",
       "      <td>[Tom Hanks, Tim Allen, Don Rickles, Jim Varney...</td>\n",
       "      <td>John Lasseter</td>\n",
       "      <td>[John Lasseter, Joss Whedon, Andrew Stanton, J...</td>\n",
       "      <td>[Animation, Comedy, Family]</td>\n",
       "    </tr>\n",
       "    <tr>\n",
       "      <th>1</th>\n",
       "      <td>Jumanji</td>\n",
       "      <td>[Robin Williams, Jonathan Hyde, Kirsten Dunst,...</td>\n",
       "      <td>Joe Johnston</td>\n",
       "      <td>[Larry J. Franco, Jonathan Hensleigh, James Ho...</td>\n",
       "      <td>[Adventure, Fantasy, Family]</td>\n",
       "    </tr>\n",
       "    <tr>\n",
       "      <th>2</th>\n",
       "      <td>Grumpier Old Men</td>\n",
       "      <td>[Walter Matthau, Jack Lemmon, Ann-Margret, Sop...</td>\n",
       "      <td>Howard Deutch</td>\n",
       "      <td>[Howard Deutch, Mark Steven Johnson, Mark Stev...</td>\n",
       "      <td>[Romance, Comedy]</td>\n",
       "    </tr>\n",
       "    <tr>\n",
       "      <th>3</th>\n",
       "      <td>Waiting to Exhale</td>\n",
       "      <td>[Whitney Houston, Angela Bassett, Loretta Devi...</td>\n",
       "      <td>Forest Whitaker</td>\n",
       "      <td>[Forest Whitaker, Ronald Bass, Ronald Bass, Ez...</td>\n",
       "      <td>[Comedy, Drama, Romance]</td>\n",
       "    </tr>\n",
       "    <tr>\n",
       "      <th>4</th>\n",
       "      <td>Father of the Bride Part II</td>\n",
       "      <td>[Steve Martin, Diane Keaton, Martin Short, Kim...</td>\n",
       "      <td>Charles Shyer</td>\n",
       "      <td>[Alan Silvestri, Elliot Davis, Nancy Meyers, N...</td>\n",
       "      <td>[Comedy]</td>\n",
       "    </tr>\n",
       "  </tbody>\n",
       "</table>\n",
       "</div>"
      ],
      "text/plain": [
       "                         title  \\\n",
       "0                    Toy Story   \n",
       "1                      Jumanji   \n",
       "2             Grumpier Old Men   \n",
       "3            Waiting to Exhale   \n",
       "4  Father of the Bride Part II   \n",
       "\n",
       "                                                cast         director  \\\n",
       "0  [Tom Hanks, Tim Allen, Don Rickles, Jim Varney...    John Lasseter   \n",
       "1  [Robin Williams, Jonathan Hyde, Kirsten Dunst,...     Joe Johnston   \n",
       "2  [Walter Matthau, Jack Lemmon, Ann-Margret, Sop...    Howard Deutch   \n",
       "3  [Whitney Houston, Angela Bassett, Loretta Devi...  Forest Whitaker   \n",
       "4  [Steve Martin, Diane Keaton, Martin Short, Kim...    Charles Shyer   \n",
       "\n",
       "                                                crew  \\\n",
       "0  [John Lasseter, Joss Whedon, Andrew Stanton, J...   \n",
       "1  [Larry J. Franco, Jonathan Hensleigh, James Ho...   \n",
       "2  [Howard Deutch, Mark Steven Johnson, Mark Stev...   \n",
       "3  [Forest Whitaker, Ronald Bass, Ronald Bass, Ez...   \n",
       "4  [Alan Silvestri, Elliot Davis, Nancy Meyers, N...   \n",
       "\n",
       "                         genres  \n",
       "0   [Animation, Comedy, Family]  \n",
       "1  [Adventure, Fantasy, Family]  \n",
       "2             [Romance, Comedy]  \n",
       "3      [Comedy, Drama, Romance]  \n",
       "4                      [Comedy]  "
      ]
     },
     "execution_count": 23,
     "metadata": {},
     "output_type": "execute_result"
    }
   ],
   "source": [
    "df[['title', 'cast', 'director', 'crew', 'genres']].head(5)"
   ]
  },
  {
   "cell_type": "code",
   "execution_count": 24,
   "id": "4ebefac8",
   "metadata": {},
   "outputs": [],
   "source": [
    "# Convert all strings to lower case and get rid of spaces.\n",
    "def dat_clean(x):\n",
    "    if isinstance(x, list):\n",
    "        clean=[]\n",
    "        for i in x:\n",
    "            clean.append(i.replace(\" \", \"\").lower())\n",
    "        return clean\n",
    "    else:\n",
    "        #directors in strings format\n",
    "        if isinstance(x, str):\n",
    "            return x.replace(\" \", \"\").lower()\n",
    "        else:\n",
    "            return ''"
   ]
  },
  {
   "cell_type": "code",
   "execution_count": 25,
   "id": "e0b76e26",
   "metadata": {},
   "outputs": [],
   "source": [
    "df['overview'] = df['overview'].fillna('')"
   ]
  },
  {
   "cell_type": "code",
   "execution_count": 26,
   "id": "4bdc3bb4",
   "metadata": {},
   "outputs": [],
   "source": [
    "attributes = ['cast', 'director','crew','genres','overview']\n",
    "\n",
    "for attribute in attributes:\n",
    "    df[attribute] = df[attribute].apply(dat_clean)"
   ]
  },
  {
   "cell_type": "code",
   "execution_count": 27,
   "id": "6543c0ad",
   "metadata": {},
   "outputs": [
    {
     "data": {
      "text/html": [
       "<div>\n",
       "<style scoped>\n",
       "    .dataframe tbody tr th:only-of-type {\n",
       "        vertical-align: middle;\n",
       "    }\n",
       "\n",
       "    .dataframe tbody tr th {\n",
       "        vertical-align: top;\n",
       "    }\n",
       "\n",
       "    .dataframe thead th {\n",
       "        text-align: right;\n",
       "    }\n",
       "</style>\n",
       "<table border=\"1\" class=\"dataframe\">\n",
       "  <thead>\n",
       "    <tr style=\"text-align: right;\">\n",
       "      <th></th>\n",
       "      <th>original_title</th>\n",
       "      <th>cast</th>\n",
       "      <th>director</th>\n",
       "      <th>crew</th>\n",
       "      <th>genres</th>\n",
       "    </tr>\n",
       "  </thead>\n",
       "  <tbody>\n",
       "    <tr>\n",
       "      <th>0</th>\n",
       "      <td>Toy Story</td>\n",
       "      <td>[tomhanks, timallen, donrickles, jimvarney, wa...</td>\n",
       "      <td>johnlasseter</td>\n",
       "      <td>[johnlasseter, josswhedon, andrewstanton, joel...</td>\n",
       "      <td>[animation, comedy, family]</td>\n",
       "    </tr>\n",
       "    <tr>\n",
       "      <th>1</th>\n",
       "      <td>Jumanji</td>\n",
       "      <td>[robinwilliams, jonathanhyde, kirstendunst, br...</td>\n",
       "      <td>joejohnston</td>\n",
       "      <td>[larryj.franco, jonathanhensleigh, jameshorner...</td>\n",
       "      <td>[adventure, fantasy, family]</td>\n",
       "    </tr>\n",
       "    <tr>\n",
       "      <th>2</th>\n",
       "      <td>Grumpier Old Men</td>\n",
       "      <td>[waltermatthau, jacklemmon, ann-margret, sophi...</td>\n",
       "      <td>howarddeutch</td>\n",
       "      <td>[howarddeutch, markstevenjohnson, markstevenjo...</td>\n",
       "      <td>[romance, comedy]</td>\n",
       "    </tr>\n",
       "    <tr>\n",
       "      <th>3</th>\n",
       "      <td>Waiting to Exhale</td>\n",
       "      <td>[whitneyhouston, angelabassett, lorettadevine,...</td>\n",
       "      <td>forestwhitaker</td>\n",
       "      <td>[forestwhitaker, ronaldbass, ronaldbass, ezras...</td>\n",
       "      <td>[comedy, drama, romance]</td>\n",
       "    </tr>\n",
       "    <tr>\n",
       "      <th>4</th>\n",
       "      <td>Father of the Bride Part II</td>\n",
       "      <td>[stevemartin, dianekeaton, martinshort, kimber...</td>\n",
       "      <td>charlesshyer</td>\n",
       "      <td>[alansilvestri, elliotdavis, nancymeyers, nanc...</td>\n",
       "      <td>[comedy]</td>\n",
       "    </tr>\n",
       "  </tbody>\n",
       "</table>\n",
       "</div>"
      ],
      "text/plain": [
       "                original_title  \\\n",
       "0                    Toy Story   \n",
       "1                      Jumanji   \n",
       "2             Grumpier Old Men   \n",
       "3            Waiting to Exhale   \n",
       "4  Father of the Bride Part II   \n",
       "\n",
       "                                                cast        director  \\\n",
       "0  [tomhanks, timallen, donrickles, jimvarney, wa...    johnlasseter   \n",
       "1  [robinwilliams, jonathanhyde, kirstendunst, br...     joejohnston   \n",
       "2  [waltermatthau, jacklemmon, ann-margret, sophi...    howarddeutch   \n",
       "3  [whitneyhouston, angelabassett, lorettadevine,...  forestwhitaker   \n",
       "4  [stevemartin, dianekeaton, martinshort, kimber...    charlesshyer   \n",
       "\n",
       "                                                crew  \\\n",
       "0  [johnlasseter, josswhedon, andrewstanton, joel...   \n",
       "1  [larryj.franco, jonathanhensleigh, jameshorner...   \n",
       "2  [howarddeutch, markstevenjohnson, markstevenjo...   \n",
       "3  [forestwhitaker, ronaldbass, ronaldbass, ezras...   \n",
       "4  [alansilvestri, elliotdavis, nancymeyers, nanc...   \n",
       "\n",
       "                         genres  \n",
       "0   [animation, comedy, family]  \n",
       "1  [adventure, fantasy, family]  \n",
       "2             [romance, comedy]  \n",
       "3      [comedy, drama, romance]  \n",
       "4                      [comedy]  "
      ]
     },
     "execution_count": 27,
     "metadata": {},
     "output_type": "execute_result"
    }
   ],
   "source": [
    "df[['original_title', 'cast', 'director', 'crew', 'genres']].head(5)"
   ]
  },
  {
   "cell_type": "code",
   "execution_count": 28,
   "id": "e41665cd",
   "metadata": {},
   "outputs": [],
   "source": [
    "#Combine all of the strings together\n",
    "def combine_together(x):\n",
    "    return ' '.join(x['cast']) + ' ' + ' '.join(x['director']) + ' ' + ' '.join(x['genres'])+' '+' '.join(x['overview'])\n",
    "df['sum'] = df.apply(combine_together, axis=1)"
   ]
  },
  {
   "cell_type": "code",
   "execution_count": 29,
   "id": "347c03a7",
   "metadata": {},
   "outputs": [],
   "source": [
    "from sklearn.feature_extraction.text import CountVectorizer\n",
    "\n",
    "count = CountVectorizer(stop_words='english')\n",
    "count_vect = count.fit_transform(df['sum'])"
   ]
  },
  {
   "cell_type": "code",
   "execution_count": 30,
   "id": "1b9df2cc",
   "metadata": {},
   "outputs": [],
   "source": [
    "#Calculate the similarties between two matrices.\n",
    "from sklearn.metrics.pairwise import cosine_similarity\n",
    "\n",
    "cossim_score = cosine_similarity(count_vect, count_vect)"
   ]
  },
  {
   "cell_type": "code",
   "execution_count": 31,
   "id": "0789c2ff",
   "metadata": {},
   "outputs": [],
   "source": [
    "# We put higher weight on similiarity and then consider the movies with high ratings.\n",
    "# We only wish to output the first few movies with the highest overall scores.\n",
    "def similar(title, similarity_weight,n):\n",
    "    new_df = df.reset_index()\n",
    "    movie_index = new_df[new_df['original_title'] == title].index\n",
    "    sim_val = cossim_score[movie_index].T\n",
    "    \n",
    "    sim_df = pd.DataFrame(sim_val, columns=['sim_value'])\n",
    "    final_df = pd.concat([new_df, sim_df], axis=1)\n",
    "    final_df['overall_score'] = final_df['weighted_average']*(1-similarity_weight) + final_df['sim_value']*similarity_weight\n",
    "    \n",
    "    final_df= final_df.sort_values(by='overall_score', ascending=False).head(n)\n",
    "    final_df.set_index('title', inplace=True)\n",
    "    return final_df[['weighted_average', 'sim_value', 'overall_score']]"
   ]
  },
  {
   "cell_type": "code",
   "execution_count": 32,
   "id": "e79f8dd5",
   "metadata": {},
   "outputs": [
    {
     "data": {
      "text/html": [
       "<div>\n",
       "<style scoped>\n",
       "    .dataframe tbody tr th:only-of-type {\n",
       "        vertical-align: middle;\n",
       "    }\n",
       "\n",
       "    .dataframe tbody tr th {\n",
       "        vertical-align: top;\n",
       "    }\n",
       "\n",
       "    .dataframe thead th {\n",
       "        text-align: right;\n",
       "    }\n",
       "</style>\n",
       "<table border=\"1\" class=\"dataframe\">\n",
       "  <thead>\n",
       "    <tr style=\"text-align: right;\">\n",
       "      <th></th>\n",
       "      <th>weighted_average</th>\n",
       "      <th>sim_value</th>\n",
       "      <th>overall_score</th>\n",
       "    </tr>\n",
       "    <tr>\n",
       "      <th>title</th>\n",
       "      <th></th>\n",
       "      <th></th>\n",
       "      <th></th>\n",
       "    </tr>\n",
       "  </thead>\n",
       "  <tbody>\n",
       "    <tr>\n",
       "      <th>Toy Story</th>\n",
       "      <td>0.812252</td>\n",
       "      <td>1.000000</td>\n",
       "      <td>0.962450</td>\n",
       "    </tr>\n",
       "    <tr>\n",
       "      <th>Toy Story 2</th>\n",
       "      <td>0.747948</td>\n",
       "      <td>0.750000</td>\n",
       "      <td>0.749590</td>\n",
       "    </tr>\n",
       "    <tr>\n",
       "      <th>Toy Story of Terror!</th>\n",
       "      <td>0.705917</td>\n",
       "      <td>0.750000</td>\n",
       "      <td>0.741183</td>\n",
       "    </tr>\n",
       "    <tr>\n",
       "      <th>Partysaurus Rex</th>\n",
       "      <td>0.658591</td>\n",
       "      <td>0.707107</td>\n",
       "      <td>0.697404</td>\n",
       "    </tr>\n",
       "    <tr>\n",
       "      <th>Toy Story That Time Forgot</th>\n",
       "      <td>0.639794</td>\n",
       "      <td>0.668153</td>\n",
       "      <td>0.662481</td>\n",
       "    </tr>\n",
       "    <tr>\n",
       "      <th>Toy Story 3</th>\n",
       "      <td>0.795980</td>\n",
       "      <td>0.625000</td>\n",
       "      <td>0.659196</td>\n",
       "    </tr>\n",
       "    <tr>\n",
       "      <th>Creature Comforts</th>\n",
       "      <td>0.581146</td>\n",
       "      <td>0.612372</td>\n",
       "      <td>0.606127</td>\n",
       "    </tr>\n",
       "    <tr>\n",
       "      <th>Lorenzo</th>\n",
       "      <td>0.523769</td>\n",
       "      <td>0.612372</td>\n",
       "      <td>0.594652</td>\n",
       "    </tr>\n",
       "    <tr>\n",
       "      <th>In a Heartbeat</th>\n",
       "      <td>0.801847</td>\n",
       "      <td>0.530330</td>\n",
       "      <td>0.584633</td>\n",
       "    </tr>\n",
       "    <tr>\n",
       "      <th>Superstar Goofy</th>\n",
       "      <td>0.472743</td>\n",
       "      <td>0.612372</td>\n",
       "      <td>0.584447</td>\n",
       "    </tr>\n",
       "  </tbody>\n",
       "</table>\n",
       "</div>"
      ],
      "text/plain": [
       "                            weighted_average  sim_value  overall_score\n",
       "title                                                                 \n",
       "Toy Story                           0.812252   1.000000       0.962450\n",
       "Toy Story 2                         0.747948   0.750000       0.749590\n",
       "Toy Story of Terror!                0.705917   0.750000       0.741183\n",
       "Partysaurus Rex                     0.658591   0.707107       0.697404\n",
       "Toy Story That Time Forgot          0.639794   0.668153       0.662481\n",
       "Toy Story 3                         0.795980   0.625000       0.659196\n",
       "Creature Comforts                   0.581146   0.612372       0.606127\n",
       "Lorenzo                             0.523769   0.612372       0.594652\n",
       "In a Heartbeat                      0.801847   0.530330       0.584633\n",
       "Superstar Goofy                     0.472743   0.612372       0.584447"
      ]
     },
     "execution_count": 32,
     "metadata": {},
     "output_type": "execute_result"
    }
   ],
   "source": [
    "similar('Toy Story',0.8,10)"
   ]
  },
  {
   "cell_type": "code",
   "execution_count": null,
   "id": "4e8189c7",
   "metadata": {},
   "outputs": [],
   "source": []
  }
 ],
 "metadata": {
  "kernelspec": {
   "display_name": "Python 3",
   "language": "python",
   "name": "python3"
  },
  "language_info": {
   "codemirror_mode": {
    "name": "ipython",
    "version": 3
   },
   "file_extension": ".py",
   "mimetype": "text/x-python",
   "name": "python",
   "nbconvert_exporter": "python",
   "pygments_lexer": "ipython3",
   "version": "3.9.4"
  }
 },
 "nbformat": 4,
 "nbformat_minor": 5
}
