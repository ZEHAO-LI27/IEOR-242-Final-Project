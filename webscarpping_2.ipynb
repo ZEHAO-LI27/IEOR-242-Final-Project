{
 "cells": [
  {
   "cell_type": "code",
   "execution_count": 1,
   "metadata": {},
   "outputs": [],
   "source": [
    "# data cleanning and web scrapping for upcoming moveis from TMDB\n"
   ]
  },
  {
   "cell_type": "code",
   "execution_count": 2,
   "metadata": {},
   "outputs": [],
   "source": [
    "# load the useful library\n",
    "import requests\n",
    "import pandas as pd\n",
    "from bs4 import BeautifulSoup\n"
   ]
  },
  {
   "cell_type": "code",
   "execution_count": 3,
   "metadata": {},
   "outputs": [],
   "source": [
    "from IPython import display"
   ]
  },
  {
   "cell_type": "code",
   "execution_count": null,
   "metadata": {},
   "outputs": [],
   "source": []
  },
  {
   "cell_type": "code",
   "execution_count": 4,
   "metadata": {},
   "outputs": [
    {
     "data": {
      "text/plain": [
       "200"
      ]
     },
     "execution_count": 4,
     "metadata": {},
     "output_type": "execute_result"
    }
   ],
   "source": [
    "needed_headers = {'User-Agent': \"Mozilla/5.0 (Windows NT 6.3; Win64; x64) AppleWebKit/537.36 (KHTML, like Gecko) Chrome/92.0.4515.131 Safari/537.36\"}\n",
    "response = requests.get(\"https://www.themoviedb.org/movie\", headers = needed_headers )\n",
    "page_contents = response.text\n",
    "page_contents[:500]\n",
    "doc= BeautifulSoup(page_contents, 'html.parser')\n",
    "response.status_code\n"
   ]
  },
  {
   "cell_type": "code",
   "execution_count": 5,
   "metadata": {},
   "outputs": [],
   "source": [
    "# load the movie pages using request\n",
    "#remember to create a personal API so that we can using the request\n",
    "def get_movies_page(movies_url):\n",
    "    \"\"\"\n",
    "    Function to download a web page using `requests` and check the status code to validate\n",
    "    if the call was successful. \n",
    "    \"\"\"\n",
    "    #  using `requests`\n",
    "    needed_headers = {'User-Agent': \"Mozilla/5.0 (Windows NT 6.3; Win64; x64) AppleWebKit/537.36 (KHTML, like Gecko) Chrome/92.0.4515.131 Safari/537.36\"}\n",
    "    response = requests.get(movies_url, headers = needed_headers )\n",
    "    # Check  was successful\n",
    "    if response.status_code != 200:\n",
    "        raise Exception('Failed to load page {}'.format(movies_url))\n",
    "    # Parse the `response' text using BeautifulSoup\n",
    "    movies_doc = BeautifulSoup(response.text, 'html.parser')\n",
    "    return movies_doc"
   ]
  },
  {
   "cell_type": "code",
   "execution_count": 6,
   "metadata": {},
   "outputs": [],
   "source": [
    "# get the movies links for those movies and save it from scrapping the further info:\n",
    "def get_url(movies_names_tags):\n",
    "    links = []\n",
    "    for movie_links in movies_names_tags:\n",
    "        links.append(movie_links.a['href'])\n",
    "    print(links)"
   ]
  },
  {
   "cell_type": "code",
   "execution_count": 7,
   "metadata": {},
   "outputs": [
    {
     "ename": "AttributeError",
     "evalue": "'list' object has no attribute 'find_all'",
     "output_type": "error",
     "traceback": [
      "\u001b[0;31m---------------------------------------------------------------------------\u001b[0m",
      "\u001b[0;31mAttributeError\u001b[0m                            Traceback (most recent call last)",
      "\u001b[0;32m/var/folders/lr/3wzrzz7j0gg0gs1x88x7xslm0000gn/T/ipykernel_27694/3089339376.py\u001b[0m in \u001b[0;36m<module>\u001b[0;34m\u001b[0m\n\u001b[1;32m     13\u001b[0m     \u001b[0;32mreturn\u001b[0m \u001b[0murl\u001b[0m\u001b[0;34m\u001b[0m\u001b[0;34m\u001b[0m\u001b[0m\n\u001b[1;32m     14\u001b[0m \u001b[0;34m\u001b[0m\u001b[0m\n\u001b[0;32m---> 15\u001b[0;31m \u001b[0mmovie_scrap\u001b[0m\u001b[0;34m(\u001b[0m\u001b[0;34m)\u001b[0m\u001b[0;34m\u001b[0m\u001b[0;34m\u001b[0m\u001b[0m\n\u001b[0m",
      "\u001b[0;32m/var/folders/lr/3wzrzz7j0gg0gs1x88x7xslm0000gn/T/ipykernel_27694/3089339376.py\u001b[0m in \u001b[0;36mmovie_scrap\u001b[0;34m()\u001b[0m\n\u001b[1;32m      7\u001b[0m         \u001b[0mmovies_url_list\u001b[0m\u001b[0;34m.\u001b[0m\u001b[0mappend\u001b[0m\u001b[0;34m(\u001b[0m\u001b[0mget_movies_page\u001b[0m\u001b[0;34m(\u001b[0m\u001b[0mmovies_url\u001b[0m\u001b[0;34m)\u001b[0m\u001b[0;34m)\u001b[0m\u001b[0;34m\u001b[0m\u001b[0;34m\u001b[0m\u001b[0m\n\u001b[1;32m      8\u001b[0m \u001b[0;34m\u001b[0m\u001b[0m\n\u001b[0;32m----> 9\u001b[0;31m     \u001b[0mmovies_names_tags\u001b[0m \u001b[0;34m=\u001b[0m \u001b[0mmovies_url_list\u001b[0m\u001b[0;34m.\u001b[0m\u001b[0mfind_all\u001b[0m\u001b[0;34m(\u001b[0m\u001b[0;34m'h2'\u001b[0m\u001b[0;34m)\u001b[0m\u001b[0;34m[\u001b[0m\u001b[0;36m4\u001b[0m\u001b[0;34m:\u001b[0m\u001b[0;34m]\u001b[0m  \u001b[0;31m#Exclude the first 4 lines\u001b[0m\u001b[0;34m\u001b[0m\u001b[0;34m\u001b[0m\u001b[0m\n\u001b[0m\u001b[1;32m     10\u001b[0m     \u001b[0murl\u001b[0m \u001b[0;34m=\u001b[0m \u001b[0mget_url\u001b[0m\u001b[0;34m(\u001b[0m\u001b[0mmovies_names_tags\u001b[0m\u001b[0;34m)\u001b[0m\u001b[0;34m\u001b[0m\u001b[0;34m\u001b[0m\u001b[0m\n\u001b[1;32m     11\u001b[0m     \u001b[0;32mfor\u001b[0m \u001b[0mh2\u001b[0m \u001b[0;32min\u001b[0m \u001b[0mmovies_names_tags\u001b[0m\u001b[0;34m:\u001b[0m\u001b[0;34m\u001b[0m\u001b[0;34m\u001b[0m\u001b[0m\n",
      "\u001b[0;31mAttributeError\u001b[0m: 'list' object has no attribute 'find_all'"
     ]
    }
   ],
   "source": [
    "# get 20 pages movies url and info:\n",
    "def movie_scrap():\n",
    "    movies_url_list = [] # store the url in dictionary that we can perform furhter operations\n",
    "    movies_names = []\n",
    "    for i in range(1,10):\n",
    "        movies_url = \"https://www.themoviedb.org/movie?page=%d\" %(i)\n",
    "        movies_url_list.append(get_movies_page(movies_url))\n",
    "    \n",
    "    movies_names_tags = movies_url_list.find_all('h2')[4:]  #Exclude the first 4 lines\n",
    "    url = get_url(movies_names_tags)\n",
    "    for h2 in movies_names_tags:\n",
    "        names.append(h2.a.text.strip())\n",
    "    return url\n",
    "\n",
    "movie_scrap()\n"
   ]
  },
  {
   "cell_type": "code",
   "execution_count": null,
   "metadata": {},
   "outputs": [
    {
     "name": "stdout",
     "output_type": "stream",
     "text": [
      "['Black Adam', 'R.I.P.D. 2: Rise of the Damned', 'Paradise City', 'Hex', 'Disenchanted', 'Black Panther: Wakanda Forever', 'Emily the Criminal', 'Lost Bullet 2', 'Sniper: The White Raven', 'Medieval', 'On the Line', 'Smile', 'Frank and Penelope', 'Margaux', 'Corrective Measures', 'The Soccer Football Movie', \"Tom and Jerry Snowman's Land\", 'Slumberland', 'Enola Holmes 2', 'The Woman King']\n"
     ]
    }
   ],
   "source": [
    "# we would like to get moveis name from the h2 content:\n",
    "movies_names_tags = doc.find_all('h2')[4:]  #Exclude the first 4 lines\n",
    "names = []\n",
    "for h2 in movies_names_tags:\n",
    "    names.append(h2.a.text.strip())\n",
    "print(names)"
   ]
  },
  {
   "cell_type": "code",
   "execution_count": null,
   "metadata": {},
   "outputs": [],
   "source": [
    "# cancate the movie and the movie url:\n",
    "def get_movies_names(doc):\n",
    "    \"\"\"\n",
    "    Function to extract the movie names from HTML source code using BeautifulSoup.\n",
    "    \"\"\"\n",
    "    movies_names_tags = doc.find_all('h2')[4:]  #Exclude the first 4 lines\n",
    "    movies_names = []\n",
    "    # Loop through the page get all the movie names from the page\n",
    "    for h2 in movies_names_tags:\n",
    "        movies_names.append(h2.a.text.strip())\n",
    "    return movies_names"
   ]
  },
  {
   "cell_type": "code",
   "execution_count": null,
   "metadata": {},
   "outputs": [],
   "source": [
    "def movies():\n",
    "    "
   ]
  },
  {
   "cell_type": "code",
   "execution_count": null,
   "metadata": {},
   "outputs": [],
   "source": [
    "import os\n",
    "base_link = \"https://www.themoviedb.org/tv\"\n",
    "\n",
    "# 'i' here means the number of page we want to extract\n"
   ]
  },
  {
   "cell_type": "code",
   "execution_count": null,
   "metadata": {},
   "outputs": [
    {
     "data": {
      "text/plain": [
       "['Black Adam',\n",
       " 'R.I.P.D. 2: Rise of the Damned',\n",
       " 'Paradise City',\n",
       " 'Hex',\n",
       " 'Disenchanted',\n",
       " 'Black Panther: Wakanda Forever',\n",
       " 'Emily the Criminal',\n",
       " 'Lost Bullet 2',\n",
       " 'Sniper: The White Raven',\n",
       " 'Medieval',\n",
       " 'On the Line',\n",
       " 'Smile',\n",
       " 'Frank and Penelope',\n",
       " 'Margaux',\n",
       " 'Corrective Measures',\n",
       " 'The Soccer Football Movie',\n",
       " \"Tom and Jerry Snowman's Land\",\n",
       " 'Slumberland',\n",
       " 'Enola Holmes 2',\n",
       " 'The Woman King']"
      ]
     },
     "execution_count": 84,
     "metadata": {},
     "output_type": "execute_result"
    }
   ],
   "source": [
    "get_movies_names(doc)"
   ]
  },
  {
   "cell_type": "code",
   "execution_count": null,
   "metadata": {},
   "outputs": [],
   "source": [
    "def get_movies_urls(doc):\n",
    "    \"\"\"\n",
    "    Function to extract the movie links from HTML source code using BeautifulSoup. \n",
    "    \"\"\"\n",
    "    movies_urls = []\n",
    "    base_url = 'https://www.themoviedb.org'\n",
    "    movies_names_tags = doc.find_all('h2')[4:]  #Exclude the first 4 lines\n",
    "    # Loop through the webpage to get the URL of each movie\n",
    "    for tag in movies_names_tags:\n",
    "        movies_urls.append(base_url + tag.a['href'])\n",
    "    return movies_urls"
   ]
  },
  {
   "cell_type": "code",
   "execution_count": null,
   "metadata": {},
   "outputs": [
    {
     "data": {
      "text/plain": [
       "['https://www.themoviedb.org/movie/436270',\n",
       " 'https://www.themoviedb.org/movie/1013860',\n",
       " 'https://www.themoviedb.org/movie/829799',\n",
       " 'https://www.themoviedb.org/movie/988233',\n",
       " 'https://www.themoviedb.org/movie/338958',\n",
       " 'https://www.themoviedb.org/movie/505642',\n",
       " 'https://www.themoviedb.org/movie/862965',\n",
       " 'https://www.themoviedb.org/movie/948276',\n",
       " 'https://www.themoviedb.org/movie/966220',\n",
       " 'https://www.themoviedb.org/movie/551271',\n",
       " 'https://www.themoviedb.org/movie/979924',\n",
       " 'https://www.themoviedb.org/movie/882598',\n",
       " 'https://www.themoviedb.org/movie/899294',\n",
       " 'https://www.themoviedb.org/movie/846778',\n",
       " 'https://www.themoviedb.org/movie/872177',\n",
       " 'https://www.themoviedb.org/movie/1037858',\n",
       " 'https://www.themoviedb.org/movie/1018403',\n",
       " 'https://www.themoviedb.org/movie/668461',\n",
       " 'https://www.themoviedb.org/movie/829280',\n",
       " 'https://www.themoviedb.org/movie/724495']"
      ]
     },
     "execution_count": 86,
     "metadata": {},
     "output_type": "execute_result"
    }
   ],
   "source": [
    "get_movies_urls(doc)"
   ]
  },
  {
   "cell_type": "code",
   "execution_count": null,
   "metadata": {},
   "outputs": [],
   "source": [
    "def get_detailed_movie_page(movies_url):\n",
    "    \"\"\"\n",
    "    Function to read the HTML source code using BeautifulSoup.\n",
    "    \"\"\"\n",
    "    # Download the page\n",
    "    response = requests.get(movies_url)\n",
    "    # Check successful response\n",
    "    if response.status_code != 200:\n",
    "        raise Exception('Failed to load page {}'.format(movies_url))\n",
    "    # Parse using Beautiful soup\n",
    "    movies_doc = BeautifulSoup(response.text, 'html.parser')\n",
    "    return movies_doc"
   ]
  },
  {
   "cell_type": "code",
   "execution_count": null,
   "metadata": {},
   "outputs": [
    {
     "name": "stdout",
     "output_type": "stream",
     "text": [
      "200\n"
     ]
    }
   ],
   "source": [
    "doc1 = get_movies_page('https://www.themoviedb.org/movie/436270')"
   ]
  },
  {
   "cell_type": "code",
   "execution_count": null,
   "metadata": {},
   "outputs": [
    {
     "name": "stdout",
     "output_type": "stream",
     "text": [
      "10/21/2022 ['Action,', 'Fantasy,', 'Science', 'Fiction'] ['2h', '5m']\n"
     ]
    }
   ],
   "source": [
    "# Find the `div` tag under `facts` class to get the release date, genre and runtime \n",
    "div_tags = doc1.find('div', class_ = 'facts')\n",
    "\n",
    "release_date = div_tags.text.split()[1]\n",
    "genre = div_tags.text.split()[3:-2]\n",
    "runtime = div_tags.text.split()[-2:]\n",
    "\n",
    "# Print and validate the result is correct\n",
    "print(release_date, genre, runtime)"
   ]
  },
  {
   "cell_type": "code",
   "execution_count": null,
   "metadata": {},
   "outputs": [
    {
     "name": "stdout",
     "output_type": "stream",
     "text": [
      "Dwayne Johnson\n"
     ]
    }
   ],
   "source": [
    "d_tags = doc1.find_all('div', {'class':'scroller_wrap should_fade is_fading'})\n",
    "\n",
    "# Print and validate the result\n",
    "print (d_tags[0].text.strip().partition(\"\\n\")[0])"
   ]
  },
  {
   "cell_type": "code",
   "execution_count": null,
   "metadata": {},
   "outputs": [],
   "source": [
    "def get_movies_info(doc):\n",
    "    \"\"\"\n",
    "    Function to get the movie informations - \n",
    "    release date, genre, runtime and director.\n",
    "    \"\"\"\n",
    "    div1_tags = doc.find('div', class_ = 'facts')\n",
    "    release_date = div1_tags.text.split()[1]\n",
    "    genre = div1_tags.text.split()[3:-2]\n",
    "    runtime = div1_tags.text.split()[-2:]\n",
    "    \n",
    "    div2_tags = doc.find_all('div', {'class':'scroller_wrap should_fade is_fading'})\n",
    "    director = div2_tags[0].text.strip().partition(\"\\n\")[0]\n",
    "    \n",
    "    return release_date, genre, runtime, director"
   ]
  },
  {
   "cell_type": "code",
   "execution_count": null,
   "metadata": {},
   "outputs": [
    {
     "data": {
      "text/plain": [
       "('10/21/2022',\n",
       " ['Action,', 'Fantasy,', 'Science', 'Fiction'],\n",
       " ['2h', '5m'],\n",
       " 'Dwayne Johnson')"
      ]
     },
     "execution_count": 102,
     "metadata": {},
     "output_type": "execute_result"
    }
   ],
   "source": [
    "get_movies_info(doc1) "
   ]
  },
  {
   "cell_type": "code",
   "execution_count": null,
   "metadata": {},
   "outputs": [],
   "source": []
  },
  {
   "cell_type": "markdown",
   "metadata": {},
   "source": [
    "## let's start new here:"
   ]
  },
  {
   "cell_type": "code",
   "execution_count": 19,
   "metadata": {},
   "outputs": [],
   "source": [
    "import re"
   ]
  },
  {
   "cell_type": "code",
   "execution_count": 8,
   "metadata": {},
   "outputs": [],
   "source": [
    "## let's start new here:\n"
   ]
  },
  {
   "cell_type": "code",
   "execution_count": 9,
   "metadata": {},
   "outputs": [],
   "source": [
    "def get_movies_page(tmdb_url):\n",
    "\n",
    "    needed_headers = {'User-Agent': \"Mozilla/5.0 (Windows NT 6.3; Win64; x64) AppleWebKit/537.36 (KHTML, like Gecko) Chrome/92.0.4515.131 Safari/537.36\"}\n",
    "    response = requests.get(tmdb_url, headers = needed_headers )\n",
    "    # Access the webpage using `requests`\n",
    "    # Check if the request was successful\n",
    "    if response.status_code != 200:\n",
    "        raise Exception('Failed to load page {}'.format(tmdb_url))\n",
    "    # Parse the `response' text using BeautifulSoup\n",
    "    movies_doc = BeautifulSoup(response.text, 'html.parser')\n",
    "    return movies_doc\n",
    "\n",
    "#get_movies_page(\"https://www.themoviedb.org/movie?page=%d\" %(i))\n",
    "doc = get_movies_page(\"https://www.themoviedb.org/movie\")\n"
   ]
  },
  {
   "cell_type": "code",
   "execution_count": 10,
   "metadata": {},
   "outputs": [
    {
     "data": {
      "text/plain": [
       "['Black Adam',\n",
       " 'R.I.P.D. 2: Rise of the Damned',\n",
       " 'Paradise City',\n",
       " 'Hex',\n",
       " 'Corrective Measures',\n",
       " 'Emily the Criminal',\n",
       " 'Disenchanted',\n",
       " 'Lost Bullet 2',\n",
       " 'Frank and Penelope',\n",
       " 'Margaux',\n",
       " 'On the Line',\n",
       " 'The Woman King',\n",
       " 'Sniper: The White Raven',\n",
       " 'Medieval',\n",
       " 'Black Panther: Wakanda Forever',\n",
       " 'Smile',\n",
       " 'Lyle, Lyle, Crocodile',\n",
       " 'The Minute You Wake Up Dead',\n",
       " 'Slumberland',\n",
       " 'The Soccer Football Movie']"
      ]
     },
     "execution_count": 10,
     "metadata": {},
     "output_type": "execute_result"
    }
   ],
   "source": [
    "def get_movies_names(doc):\n",
    "\n",
    "    movies_names_tags = doc.find_all('h2')[4:]  #Exclude the first 4 lines\n",
    "    movies_names = []\n",
    "    # Loop through the page get all the movie names from the page\n",
    "    for h2 in movies_names_tags:\n",
    "        movies_names.append(h2.a.text.strip())\n",
    "    return movies_names\n",
    "get_movies_names(doc)"
   ]
  },
  {
   "cell_type": "code",
   "execution_count": 11,
   "metadata": {},
   "outputs": [
    {
     "data": {
      "text/plain": [
       "['73.0',\n",
       " '68.0',\n",
       " '58.0',\n",
       " '38.0',\n",
       " '49.0',\n",
       " '69.0',\n",
       " '74.0',\n",
       " '68.0',\n",
       " '75.0',\n",
       " '68.0',\n",
       " '65.0',\n",
       " '79.0',\n",
       " '75.0',\n",
       " '72.0',\n",
       " '75.0',\n",
       " '68.0',\n",
       " '76.0',\n",
       " '49.0',\n",
       " '79.0',\n",
       " '67.0']"
      ]
     },
     "execution_count": 11,
     "metadata": {},
     "output_type": "execute_result"
    }
   ],
   "source": [
    "def get_movies_rating(doc):\n",
    "\n",
    "    desc_selector = 'user_score_chart'\n",
    "    movies_rating_tags = doc.find_all('div', {'class': desc_selector})\n",
    "    movies_rating = []\n",
    "    # Loop through the webpage to get the ratings of all the movies in the page\n",
    "    for tag in movies_rating_tags:\n",
    "        movies_rating.append(tag.attrs['data-percent'])\n",
    "    return movies_rating\n",
    "get_movies_rating(doc)"
   ]
  },
  {
   "cell_type": "code",
   "execution_count": 12,
   "metadata": {},
   "outputs": [],
   "source": [
    "def get_movies_urls(doc):\n",
    "    \"\"\"\n",
    "    Function to extract the movie links from HTML source code using BeautifulSoup. \n",
    "    \"\"\"\n",
    "    movies_urls = []\n",
    "    base_url = 'https://www.themoviedb.org'\n",
    "    movies_names_tags = doc.find_all('h2')[4:]  #starting from the 5th line\n",
    "    # Loop through the webpage to get the URL of each movie\n",
    "    for tag in movies_names_tags:\n",
    "        movies_urls.append(base_url + tag.a['href'])\n",
    "    return movies_urls\n",
    "movies_url = get_movies_urls(doc)"
   ]
  },
  {
   "cell_type": "code",
   "execution_count": 13,
   "metadata": {},
   "outputs": [],
   "source": [
    "def get_detailed_movie_page(movies_url):\n",
    "    \"\"\"\n",
    "    Function to read the HTML source code using BeautifulSoup.\n",
    "    \"\"\"\n",
    "\n",
    "    movies_doc = get_movies_page(movies_url)\n",
    "    return movies_doc\n",
    "doc1 =get_detailed_movie_page(movies_url[1])"
   ]
  },
  {
   "cell_type": "code",
   "execution_count": 53,
   "metadata": {},
   "outputs": [
    {
     "data": {
      "text/plain": [
       "['https://www.themoviedb.org/movie/436270',\n",
       " 'https://www.themoviedb.org/movie/1013860',\n",
       " 'https://www.themoviedb.org/movie/829799',\n",
       " 'https://www.themoviedb.org/movie/988233',\n",
       " 'https://www.themoviedb.org/movie/872177',\n",
       " 'https://www.themoviedb.org/movie/862965',\n",
       " 'https://www.themoviedb.org/movie/338958',\n",
       " 'https://www.themoviedb.org/movie/948276',\n",
       " 'https://www.themoviedb.org/movie/899294',\n",
       " 'https://www.themoviedb.org/movie/846778',\n",
       " 'https://www.themoviedb.org/movie/979924',\n",
       " 'https://www.themoviedb.org/movie/724495',\n",
       " 'https://www.themoviedb.org/movie/966220',\n",
       " 'https://www.themoviedb.org/movie/551271',\n",
       " 'https://www.themoviedb.org/movie/505642',\n",
       " 'https://www.themoviedb.org/movie/882598',\n",
       " 'https://www.themoviedb.org/movie/830784',\n",
       " 'https://www.themoviedb.org/movie/934641',\n",
       " 'https://www.themoviedb.org/movie/668461',\n",
       " 'https://www.themoviedb.org/movie/1037858']"
      ]
     },
     "execution_count": 53,
     "metadata": {},
     "output_type": "execute_result"
    }
   ],
   "source": [
    "movies_url"
   ]
  },
  {
   "cell_type": "code",
   "execution_count": 51,
   "metadata": {},
   "outputs": [],
   "source": [
    "doc1 =get_all_movies_details(movies_url)"
   ]
  },
  {
   "cell_type": "code",
   "execution_count": 52,
   "metadata": {},
   "outputs": [
    {
     "data": {
      "text/plain": [
       "('11/09/2022',\n",
       " ['Animation,', 'Comedy,', 'Family'],\n",
       " ['1h', '14m'],\n",
       " 'Zlatan Ibrahimović',\n",
       " ['$200,000,000.00',\n",
       "  '$130.00',\n",
       "  '$20,000,000.00',\n",
       "  '-',\n",
       "  '-',\n",
       "  '-',\n",
       "  '-',\n",
       "  'Released',\n",
       "  '-',\n",
       "  '-',\n",
       "  '-',\n",
       "  '$50,000,000.00',\n",
       "  'Released',\n",
       "  '$23,000,000.00',\n",
       "  '$250,000,000.00',\n",
       "  '$17,000,000.00',\n",
       "  '$50,000,000.00',\n",
       "  '-',\n",
       "  '-',\n",
       "  '-'],\n",
       " ['$368,000,000.00',\n",
       "  '$78,324,220.00',\n",
       "  '-',\n",
       "  '-',\n",
       "  '-',\n",
       "  '-',\n",
       "  '-',\n",
       "  'Language',\n",
       "  '-',\n",
       "  '-',\n",
       "  '-',\n",
       "  '$91,000,000.00',\n",
       "  'Language',\n",
       "  '$4,311,284.00',\n",
       "  '$675,000,000.00',\n",
       "  '$214,000,000.00',\n",
       "  '$79,761,937.00',\n",
       "  '-',\n",
       "  '-',\n",
       "  '-'],\n",
       " ['English',\n",
       "  'English',\n",
       "  'English',\n",
       "  'English',\n",
       "  'English',\n",
       "  'English',\n",
       "  'English',\n",
       "  '2',\n",
       "  'English',\n",
       "  'English',\n",
       "  'English',\n",
       "  'English',\n",
       "  'ворон',\n",
       "  'English',\n",
       "  'English',\n",
       "  'English',\n",
       "  'English',\n",
       "  'English',\n",
       "  'English',\n",
       "  'English'])"
      ]
     },
     "execution_count": 52,
     "metadata": {},
     "output_type": "execute_result"
    }
   ],
   "source": [
    "doc1"
   ]
  },
  {
   "cell_type": "code",
   "execution_count": 20,
   "metadata": {},
   "outputs": [
    {
     "data": {
      "text/plain": [
       "('11/15/2022',\n",
       " ['Fantasy,', 'Action,', 'Comedy,', 'Crime'],\n",
       " ['1h', '42m'],\n",
       " 'Jeffrey Donovan',\n",
       " '$130.00',\n",
       " '$78,324,220.00',\n",
       " 'English')"
      ]
     },
     "execution_count": 20,
     "metadata": {},
     "output_type": "execute_result"
    }
   ],
   "source": [
    "def get_movies_info(doc):\n",
    "    \"\"\"\n",
    "    Function to get the movie informations - \n",
    "    release date, genre, runtime and director.\n",
    "    \"\"\"\n",
    "    div1_tags = doc.find('div', class_ = 'facts')\n",
    "    release_date = div1_tags.text.split()[1]\n",
    "    genre = div1_tags.text.split()[3:-2]\n",
    "    runtime = div1_tags.text.split()[-2:]\n",
    "    \n",
    "    div2_tags = doc.find_all('div', {'class':'scroller_wrap should_fade is_fading'})\n",
    "    if div2_tags == []:\n",
    "        director = 'None'\n",
    "    else:\n",
    "        director = div2_tags[0].text.strip().partition(\"\\n\")[0]\n",
    "\n",
    "    div3_tags = doc.find('div', {'class':'grey_column'})\n",
    "    a =re.sub(r'\\n',\" \",div3_tags.text)\n",
    "    b = re.sub(' +', ' ', a).split(\" \")\n",
    "    budget = b[7]\n",
    "    revenue = b[9]\n",
    "    language = b[5]\n",
    "    div2_tags = doc.find_all('div', {'class':'scroller_wrap should_fade is_fading'})\n",
    "    \n",
    "    return release_date, genre, runtime, director, budget, revenue, language\n",
    "get_movies_info(doc1)"
   ]
  },
  {
   "cell_type": "code",
   "execution_count": 54,
   "metadata": {},
   "outputs": [],
   "source": [
    "def get_all_movies_details(urls):\n",
    "\n",
    "    genres = []\n",
    "    release_dates = []\n",
    "    runtimes = []\n",
    "    directors = []\n",
    "    budgets = []\n",
    "    revenues = []\n",
    "    languages = []\n",
    "    \n",
    "    # Loop through all the urls of the the movies \n",
    "    for url in urls:\n",
    "        movie_doc = get_movies_page(url)\n",
    "        # get_movies_info returns release_date, genre, runtime, director.\n",
    "        release_date, genre, runtime, director, budget, revenue, language= get_movies_info(movie_doc)\n",
    "        # Convert the genre list to string on ` `. \n",
    "        genres.append(\" \".join(genre))\n",
    "        release_dates.append(release_date)\n",
    "        runtimes.append(\" \".join(runtime))\n",
    "        directors.append(director)\n",
    "        budgets.append(budget)\n",
    "        revenues.append(revenue)\n",
    "        languages.append(language)\n",
    "        \n",
    "    return release_dates, genres, runtimes, directors, budgets, revenues, languages\n",
    "        "
   ]
  },
  {
   "cell_type": "code",
   "execution_count": null,
   "metadata": {},
   "outputs": [],
   "source": []
  },
  {
   "cell_type": "markdown",
   "metadata": {},
   "source": []
  },
  {
   "cell_type": "code",
   "execution_count": null,
   "metadata": {},
   "outputs": [],
   "source": []
  },
  {
   "cell_type": "code",
   "execution_count": 55,
   "metadata": {},
   "outputs": [],
   "source": [
    "def scrape_movies():\n",
    "    \"\"\"\n",
    "    Function to download web page using `requests` and\n",
    "    to extract the HTML source code using BeautifulSoup.\n",
    "    \"\"\"\n",
    "    # Let's get the popular movies listing from the TMdb website\n",
    "    page_count = 1 # Initializing the movie page count to 1\n",
    "    # Define lists for all the movie attributes\n",
    "    all_names = []\n",
    "    all_ratings = []\n",
    "    all_genres = []\n",
    "    all_release_dates = []\n",
    "    all_runtimes = []\n",
    "    all_directors = []\n",
    "    all_urls = []\n",
    "    all_bud = []\n",
    "    all_rev = []\n",
    "    all_lan = []\n",
    "    \n",
    "    while page_count < 2: # Looping for 8 pages of the TMdb web page\n",
    "        movies_url = \"https://www.themoviedb.org/movie?page=%d\" %(page_count)\n",
    "        # Access the webpage using `requests`\n",
    "        needed_headers = {'User-Agent': \"Mozilla/5.0 (Windows NT 6.3; Win64; x64) AppleWebKit/537.36 (KHTML, like Gecko) Chrome/92.0.4515.131 Safari/537.36\"}\n",
    "        response = requests.get(movies_url, headers = needed_headers )\n",
    "        if response.status_code != 200:\n",
    "            raise Exception('Failed to load page {}'.format(movies_url))\n",
    "        # Parse the `response' text using BeautifulSoup\n",
    "        doc = BeautifulSoup(response.text, 'html.parser')\n",
    "        \n",
    "        urls = get_movies_urls(doc)\n",
    "        release_date, genre, runtime, director, budgets, revenues, languages = get_all_movies_details(urls)\n",
    "        \n",
    "        # Append each movie attribute to respective lists\n",
    "        all_names += get_movies_names(doc)\n",
    "        all_ratings += get_movies_rating(doc)\n",
    "        all_genres += genre\n",
    "        all_release_dates += release_date\n",
    "        all_runtimes += runtime\n",
    "        all_directors += director\n",
    "        all_urls += urls \n",
    "        all_bud += budgets\n",
    "        all_rev += revenues\n",
    "        all_lan += languages\n",
    "        page_count += 1\n",
    "\n",
    "        # Defining a dictionary to store the movie informations\n",
    "    movies_dict = {\n",
    "        'name': all_names,\n",
    "        'rating': all_ratings,\n",
    "        'genre': all_genres,\n",
    "        'release_date': all_release_dates,\n",
    "        'runtime': all_runtimes,\n",
    "        'director': all_directors,\n",
    "        'url': all_urls,\n",
    "        'Buduget' : all_bud,\n",
    "        'Revenue' : all_rev,\n",
    "        \"Original Language\": all_lan\n",
    "    }\n",
    "    return movies_dict#pd.DataFrame(movies_dict)"
   ]
  },
  {
   "cell_type": "code",
   "execution_count": 56,
   "metadata": {},
   "outputs": [],
   "source": [
    "b = scrape_movies()"
   ]
  },
  {
   "cell_type": "code",
   "execution_count": 57,
   "metadata": {},
   "outputs": [
    {
     "data": {
      "text/plain": [
       "dict_keys(['name', 'rating', 'genre', 'release_date', 'runtime', 'director', 'url', 'Buduget', 'Revenue', 'Original Language'])"
      ]
     },
     "execution_count": 57,
     "metadata": {},
     "output_type": "execute_result"
    }
   ],
   "source": [
    "b.keys()"
   ]
  },
  {
   "cell_type": "code",
   "execution_count": 58,
   "metadata": {},
   "outputs": [
    {
     "data": {
      "text/plain": [
       "20"
      ]
     },
     "execution_count": 58,
     "metadata": {},
     "output_type": "execute_result"
    }
   ],
   "source": [
    "len(b['release_date'])"
   ]
  },
  {
   "cell_type": "code",
   "execution_count": null,
   "metadata": {},
   "outputs": [],
   "source": []
  },
  {
   "cell_type": "code",
   "execution_count": 59,
   "metadata": {},
   "outputs": [
    {
     "data": {
      "text/html": [
       "<div>\n",
       "<style scoped>\n",
       "    .dataframe tbody tr th:only-of-type {\n",
       "        vertical-align: middle;\n",
       "    }\n",
       "\n",
       "    .dataframe tbody tr th {\n",
       "        vertical-align: top;\n",
       "    }\n",
       "\n",
       "    .dataframe thead th {\n",
       "        text-align: right;\n",
       "    }\n",
       "</style>\n",
       "<table border=\"1\" class=\"dataframe\">\n",
       "  <thead>\n",
       "    <tr style=\"text-align: right;\">\n",
       "      <th></th>\n",
       "      <th>name</th>\n",
       "      <th>rating</th>\n",
       "      <th>genre</th>\n",
       "      <th>release_date</th>\n",
       "      <th>runtime</th>\n",
       "      <th>director</th>\n",
       "      <th>url</th>\n",
       "      <th>Buduget</th>\n",
       "      <th>Revenue</th>\n",
       "      <th>Original Language</th>\n",
       "    </tr>\n",
       "  </thead>\n",
       "  <tbody>\n",
       "    <tr>\n",
       "      <th>0</th>\n",
       "      <td>Black Adam</td>\n",
       "      <td>73.0</td>\n",
       "      <td>Action, Fantasy, Science Fiction</td>\n",
       "      <td>10/21/2022</td>\n",
       "      <td>2h 5m</td>\n",
       "      <td>Dwayne Johnson</td>\n",
       "      <td>https://www.themoviedb.org/movie/436270</td>\n",
       "      <td>$200,000,000.00</td>\n",
       "      <td>$368,000,000.00</td>\n",
       "      <td>English</td>\n",
       "    </tr>\n",
       "    <tr>\n",
       "      <th>1</th>\n",
       "      <td>R.I.P.D. 2: Rise of the Damned</td>\n",
       "      <td>68.0</td>\n",
       "      <td>Fantasy, Action, Comedy, Crime</td>\n",
       "      <td>11/15/2022</td>\n",
       "      <td>1h 42m</td>\n",
       "      <td>Jeffrey Donovan</td>\n",
       "      <td>https://www.themoviedb.org/movie/1013860</td>\n",
       "      <td>$130.00</td>\n",
       "      <td>$78,324,220.00</td>\n",
       "      <td>English</td>\n",
       "    </tr>\n",
       "    <tr>\n",
       "      <th>2</th>\n",
       "      <td>Paradise City</td>\n",
       "      <td>58.0</td>\n",
       "      <td>Crime, Action, Thriller</td>\n",
       "      <td>11/17/2022</td>\n",
       "      <td>1h 33m</td>\n",
       "      <td>John Travolta</td>\n",
       "      <td>https://www.themoviedb.org/movie/829799</td>\n",
       "      <td>$20,000,000.00</td>\n",
       "      <td>-</td>\n",
       "      <td>English</td>\n",
       "    </tr>\n",
       "    <tr>\n",
       "      <th>3</th>\n",
       "      <td>Hex</td>\n",
       "      <td>38.0</td>\n",
       "      <td>Action, Horror, Thriller</td>\n",
       "      <td>11/01/2022</td>\n",
       "      <td>1h 28m</td>\n",
       "      <td>Kayla Adams</td>\n",
       "      <td>https://www.themoviedb.org/movie/988233</td>\n",
       "      <td>-</td>\n",
       "      <td>-</td>\n",
       "      <td>English</td>\n",
       "    </tr>\n",
       "    <tr>\n",
       "      <th>4</th>\n",
       "      <td>Corrective Measures</td>\n",
       "      <td>49.0</td>\n",
       "      <td>Science Fiction, Action</td>\n",
       "      <td>04/29/2022</td>\n",
       "      <td>1h 46m</td>\n",
       "      <td>Bruce Willis</td>\n",
       "      <td>https://www.themoviedb.org/movie/872177</td>\n",
       "      <td>-</td>\n",
       "      <td>-</td>\n",
       "      <td>English</td>\n",
       "    </tr>\n",
       "    <tr>\n",
       "      <th>5</th>\n",
       "      <td>Emily the Criminal</td>\n",
       "      <td>69.0</td>\n",
       "      <td>Crime, Drama, Mystery, Thriller</td>\n",
       "      <td>08/12/2022</td>\n",
       "      <td>1h 37m</td>\n",
       "      <td>Aubrey Plaza</td>\n",
       "      <td>https://www.themoviedb.org/movie/862965</td>\n",
       "      <td>-</td>\n",
       "      <td>-</td>\n",
       "      <td>English</td>\n",
       "    </tr>\n",
       "    <tr>\n",
       "      <th>6</th>\n",
       "      <td>Disenchanted</td>\n",
       "      <td>74.0</td>\n",
       "      <td>Comedy, Family,</td>\n",
       "      <td>11/18/2022</td>\n",
       "      <td>Fantasy 2h</td>\n",
       "      <td>Amy Adams</td>\n",
       "      <td>https://www.themoviedb.org/movie/338958</td>\n",
       "      <td>-</td>\n",
       "      <td>-</td>\n",
       "      <td>English</td>\n",
       "    </tr>\n",
       "    <tr>\n",
       "      <th>7</th>\n",
       "      <td>Lost Bullet 2</td>\n",
       "      <td>68.0</td>\n",
       "      <td>Action, Drama, Thriller</td>\n",
       "      <td>11/10/2022</td>\n",
       "      <td>1h 38m</td>\n",
       "      <td>Alban Lenoir</td>\n",
       "      <td>https://www.themoviedb.org/movie/948276</td>\n",
       "      <td>Released</td>\n",
       "      <td>Language</td>\n",
       "      <td>2</td>\n",
       "    </tr>\n",
       "    <tr>\n",
       "      <th>8</th>\n",
       "      <td>Frank and Penelope</td>\n",
       "      <td>75.0</td>\n",
       "      <td>Thriller, Horror, Crime</td>\n",
       "      <td>06/03/2022</td>\n",
       "      <td>1h 52m</td>\n",
       "      <td>Kevin Dillon</td>\n",
       "      <td>https://www.themoviedb.org/movie/899294</td>\n",
       "      <td>-</td>\n",
       "      <td>-</td>\n",
       "      <td>English</td>\n",
       "    </tr>\n",
       "    <tr>\n",
       "      <th>9</th>\n",
       "      <td>Margaux</td>\n",
       "      <td>68.0</td>\n",
       "      <td>Horror, Science Fiction</td>\n",
       "      <td>09/09/2022</td>\n",
       "      <td>1h 45m</td>\n",
       "      <td>Madison Pettis</td>\n",
       "      <td>https://www.themoviedb.org/movie/846778</td>\n",
       "      <td>-</td>\n",
       "      <td>-</td>\n",
       "      <td>English</td>\n",
       "    </tr>\n",
       "    <tr>\n",
       "      <th>10</th>\n",
       "      <td>On the Line</td>\n",
       "      <td>65.0</td>\n",
       "      <td>Thriller</td>\n",
       "      <td>10/31/2022</td>\n",
       "      <td>1h 44m</td>\n",
       "      <td>Mel Gibson</td>\n",
       "      <td>https://www.themoviedb.org/movie/979924</td>\n",
       "      <td>-</td>\n",
       "      <td>-</td>\n",
       "      <td>English</td>\n",
       "    </tr>\n",
       "    <tr>\n",
       "      <th>11</th>\n",
       "      <td>The Woman King</td>\n",
       "      <td>79.0</td>\n",
       "      <td>Action, Drama, History</td>\n",
       "      <td>09/16/2022</td>\n",
       "      <td>2h 15m</td>\n",
       "      <td>Viola Davis</td>\n",
       "      <td>https://www.themoviedb.org/movie/724495</td>\n",
       "      <td>$50,000,000.00</td>\n",
       "      <td>$91,000,000.00</td>\n",
       "      <td>English</td>\n",
       "    </tr>\n",
       "    <tr>\n",
       "      <th>12</th>\n",
       "      <td>Sniper: The White Raven</td>\n",
       "      <td>75.0</td>\n",
       "      <td>Drama, Action,</td>\n",
       "      <td>08/24/2022</td>\n",
       "      <td>War 2h</td>\n",
       "      <td>Pavlo Aldoshyn</td>\n",
       "      <td>https://www.themoviedb.org/movie/966220</td>\n",
       "      <td>Released</td>\n",
       "      <td>Language</td>\n",
       "      <td>ворон</td>\n",
       "    </tr>\n",
       "    <tr>\n",
       "      <th>13</th>\n",
       "      <td>Medieval</td>\n",
       "      <td>72.0</td>\n",
       "      <td>History, Action, Drama</td>\n",
       "      <td>09/09/2022</td>\n",
       "      <td>2h 6m</td>\n",
       "      <td>Ben Foster</td>\n",
       "      <td>https://www.themoviedb.org/movie/551271</td>\n",
       "      <td>$23,000,000.00</td>\n",
       "      <td>$4,311,284.00</td>\n",
       "      <td>English</td>\n",
       "    </tr>\n",
       "    <tr>\n",
       "      <th>14</th>\n",
       "      <td>Black Panther: Wakanda Forever</td>\n",
       "      <td>75.0</td>\n",
       "      <td>Action, Adventure, Science Fiction</td>\n",
       "      <td>11/11/2022</td>\n",
       "      <td>2h 42m</td>\n",
       "      <td>Letitia Wright</td>\n",
       "      <td>https://www.themoviedb.org/movie/505642</td>\n",
       "      <td>$250,000,000.00</td>\n",
       "      <td>$675,000,000.00</td>\n",
       "      <td>English</td>\n",
       "    </tr>\n",
       "    <tr>\n",
       "      <th>15</th>\n",
       "      <td>Smile</td>\n",
       "      <td>68.0</td>\n",
       "      <td>Horror, Mystery, Thriller</td>\n",
       "      <td>09/30/2022</td>\n",
       "      <td>1h 55m</td>\n",
       "      <td>Sosie Bacon</td>\n",
       "      <td>https://www.themoviedb.org/movie/882598</td>\n",
       "      <td>$17,000,000.00</td>\n",
       "      <td>$214,000,000.00</td>\n",
       "      <td>English</td>\n",
       "    </tr>\n",
       "    <tr>\n",
       "      <th>16</th>\n",
       "      <td>Lyle, Lyle, Crocodile</td>\n",
       "      <td>76.0</td>\n",
       "      <td>Comedy, Family, Music</td>\n",
       "      <td>10/07/2022</td>\n",
       "      <td>1h 46m</td>\n",
       "      <td>Winslow Fegley</td>\n",
       "      <td>https://www.themoviedb.org/movie/830784</td>\n",
       "      <td>$50,000,000.00</td>\n",
       "      <td>$79,761,937.00</td>\n",
       "      <td>English</td>\n",
       "    </tr>\n",
       "    <tr>\n",
       "      <th>17</th>\n",
       "      <td>The Minute You Wake Up Dead</td>\n",
       "      <td>49.0</td>\n",
       "      <td>Thriller, Crime</td>\n",
       "      <td>11/04/2022</td>\n",
       "      <td>1h 30m</td>\n",
       "      <td>Cole Hauser</td>\n",
       "      <td>https://www.themoviedb.org/movie/934641</td>\n",
       "      <td>-</td>\n",
       "      <td>-</td>\n",
       "      <td>English</td>\n",
       "    </tr>\n",
       "    <tr>\n",
       "      <th>18</th>\n",
       "      <td>Slumberland</td>\n",
       "      <td>79.0</td>\n",
       "      <td>Family, Fantasy, Adventure, Drama</td>\n",
       "      <td>11/18/2022</td>\n",
       "      <td>1h 57m</td>\n",
       "      <td>Jason Momoa</td>\n",
       "      <td>https://www.themoviedb.org/movie/668461</td>\n",
       "      <td>-</td>\n",
       "      <td>-</td>\n",
       "      <td>English</td>\n",
       "    </tr>\n",
       "    <tr>\n",
       "      <th>19</th>\n",
       "      <td>Blue's Big City Adventure</td>\n",
       "      <td>74.0</td>\n",
       "      <td>Adventure, Music, Animation</td>\n",
       "      <td>(US)</td>\n",
       "      <td>1h 14m</td>\n",
       "      <td>Joshua Dela Cruz</td>\n",
       "      <td>https://www.themoviedb.org/movie/939210</td>\n",
       "      <td>-</td>\n",
       "      <td>-</td>\n",
       "      <td>English</td>\n",
       "    </tr>\n",
       "  </tbody>\n",
       "</table>\n",
       "</div>"
      ],
      "text/plain": [
       "                              name rating                               genre  \\\n",
       "0                       Black Adam   73.0    Action, Fantasy, Science Fiction   \n",
       "1   R.I.P.D. 2: Rise of the Damned   68.0      Fantasy, Action, Comedy, Crime   \n",
       "2                    Paradise City   58.0             Crime, Action, Thriller   \n",
       "3                              Hex   38.0            Action, Horror, Thriller   \n",
       "4              Corrective Measures   49.0             Science Fiction, Action   \n",
       "5               Emily the Criminal   69.0     Crime, Drama, Mystery, Thriller   \n",
       "6                     Disenchanted   74.0                     Comedy, Family,   \n",
       "7                    Lost Bullet 2   68.0             Action, Drama, Thriller   \n",
       "8               Frank and Penelope   75.0             Thriller, Horror, Crime   \n",
       "9                          Margaux   68.0             Horror, Science Fiction   \n",
       "10                     On the Line   65.0                            Thriller   \n",
       "11                  The Woman King   79.0              Action, Drama, History   \n",
       "12         Sniper: The White Raven   75.0                      Drama, Action,   \n",
       "13                        Medieval   72.0              History, Action, Drama   \n",
       "14  Black Panther: Wakanda Forever   75.0  Action, Adventure, Science Fiction   \n",
       "15                           Smile   68.0           Horror, Mystery, Thriller   \n",
       "16           Lyle, Lyle, Crocodile   76.0               Comedy, Family, Music   \n",
       "17     The Minute You Wake Up Dead   49.0                     Thriller, Crime   \n",
       "18                     Slumberland   79.0   Family, Fantasy, Adventure, Drama   \n",
       "19       Blue's Big City Adventure   74.0         Adventure, Music, Animation   \n",
       "\n",
       "   release_date     runtime          director  \\\n",
       "0    10/21/2022       2h 5m    Dwayne Johnson   \n",
       "1    11/15/2022      1h 42m   Jeffrey Donovan   \n",
       "2    11/17/2022      1h 33m     John Travolta   \n",
       "3    11/01/2022      1h 28m       Kayla Adams   \n",
       "4    04/29/2022      1h 46m      Bruce Willis   \n",
       "5    08/12/2022      1h 37m      Aubrey Plaza   \n",
       "6    11/18/2022  Fantasy 2h         Amy Adams   \n",
       "7    11/10/2022      1h 38m      Alban Lenoir   \n",
       "8    06/03/2022      1h 52m      Kevin Dillon   \n",
       "9    09/09/2022      1h 45m    Madison Pettis   \n",
       "10   10/31/2022      1h 44m        Mel Gibson   \n",
       "11   09/16/2022      2h 15m       Viola Davis   \n",
       "12   08/24/2022      War 2h    Pavlo Aldoshyn   \n",
       "13   09/09/2022       2h 6m        Ben Foster   \n",
       "14   11/11/2022      2h 42m    Letitia Wright   \n",
       "15   09/30/2022      1h 55m       Sosie Bacon   \n",
       "16   10/07/2022      1h 46m    Winslow Fegley   \n",
       "17   11/04/2022      1h 30m       Cole Hauser   \n",
       "18   11/18/2022      1h 57m       Jason Momoa   \n",
       "19         (US)      1h 14m  Joshua Dela Cruz   \n",
       "\n",
       "                                         url          Buduget  \\\n",
       "0    https://www.themoviedb.org/movie/436270  $200,000,000.00   \n",
       "1   https://www.themoviedb.org/movie/1013860          $130.00   \n",
       "2    https://www.themoviedb.org/movie/829799   $20,000,000.00   \n",
       "3    https://www.themoviedb.org/movie/988233                -   \n",
       "4    https://www.themoviedb.org/movie/872177                -   \n",
       "5    https://www.themoviedb.org/movie/862965                -   \n",
       "6    https://www.themoviedb.org/movie/338958                -   \n",
       "7    https://www.themoviedb.org/movie/948276         Released   \n",
       "8    https://www.themoviedb.org/movie/899294                -   \n",
       "9    https://www.themoviedb.org/movie/846778                -   \n",
       "10   https://www.themoviedb.org/movie/979924                -   \n",
       "11   https://www.themoviedb.org/movie/724495   $50,000,000.00   \n",
       "12   https://www.themoviedb.org/movie/966220         Released   \n",
       "13   https://www.themoviedb.org/movie/551271   $23,000,000.00   \n",
       "14   https://www.themoviedb.org/movie/505642  $250,000,000.00   \n",
       "15   https://www.themoviedb.org/movie/882598   $17,000,000.00   \n",
       "16   https://www.themoviedb.org/movie/830784   $50,000,000.00   \n",
       "17   https://www.themoviedb.org/movie/934641                -   \n",
       "18   https://www.themoviedb.org/movie/668461                -   \n",
       "19   https://www.themoviedb.org/movie/939210                -   \n",
       "\n",
       "            Revenue Original Language  \n",
       "0   $368,000,000.00           English  \n",
       "1    $78,324,220.00           English  \n",
       "2                 -           English  \n",
       "3                 -           English  \n",
       "4                 -           English  \n",
       "5                 -           English  \n",
       "6                 -           English  \n",
       "7          Language                 2  \n",
       "8                 -           English  \n",
       "9                 -           English  \n",
       "10                -           English  \n",
       "11   $91,000,000.00           English  \n",
       "12         Language             ворон  \n",
       "13    $4,311,284.00           English  \n",
       "14  $675,000,000.00           English  \n",
       "15  $214,000,000.00           English  \n",
       "16   $79,761,937.00           English  \n",
       "17                -           English  \n",
       "18                -           English  \n",
       "19                -           English  "
      ]
     },
     "execution_count": 59,
     "metadata": {},
     "output_type": "execute_result"
    }
   ],
   "source": [
    "pd.DataFrame(b)"
   ]
  },
  {
   "cell_type": "code",
   "execution_count": null,
   "metadata": {},
   "outputs": [],
   "source": []
  },
  {
   "cell_type": "code",
   "execution_count": null,
   "metadata": {},
   "outputs": [],
   "source": []
  },
  {
   "cell_type": "code",
   "execution_count": null,
   "metadata": {},
   "outputs": [],
   "source": []
  },
  {
   "cell_type": "code",
   "execution_count": null,
   "metadata": {},
   "outputs": [],
   "source": []
  },
  {
   "cell_type": "code",
   "execution_count": null,
   "metadata": {},
   "outputs": [],
   "source": []
  }
 ],
 "metadata": {
  "kernelspec": {
   "display_name": "Python 3.9.5 64-bit",
   "language": "python",
   "name": "python3"
  },
  "language_info": {
   "codemirror_mode": {
    "name": "ipython",
    "version": 3
   },
   "file_extension": ".py",
   "mimetype": "text/x-python",
   "name": "python",
   "nbconvert_exporter": "python",
   "pygments_lexer": "ipython3",
   "version": "3.9.5"
  },
  "orig_nbformat": 4,
  "vscode": {
   "interpreter": {
    "hash": "aee8b7b246df8f9039afb4144a1f6fd8d2ca17a180786b69acc140d282b71a49"
   }
  }
 },
 "nbformat": 4,
 "nbformat_minor": 2
}
